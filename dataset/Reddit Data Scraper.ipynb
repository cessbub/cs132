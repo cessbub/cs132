{
 "cells": [
  {
   "cell_type": "code",
   "execution_count": 1,
   "id": "f83420d6",
   "metadata": {},
   "outputs": [],
   "source": [
    "import praw\n",
    "import pandas as pd\n",
    "from datetime import datetime\n",
    "import datetime  \n"
   ]
  },
  {
   "cell_type": "code",
   "execution_count": 2,
   "id": "09c991e9",
   "metadata": {},
   "outputs": [],
   "source": [
    "reddit = praw.Reddit(\n",
    "        client_id='yrkdbTx3mnMgTbxFwJgEJg',\n",
    "        client_secret='andB1GoS9fPXomZfdmlItJIMhQDXhQ',\n",
    "        password=\"{password}\",\n",
    "        username=\"{username}\",\n",
    "        user_agent='test by /u/{username}',\n",
    "    )"
   ]
  },
  {
   "cell_type": "code",
   "execution_count": 16,
   "id": "cb84b486",
   "metadata": {},
   "outputs": [
    {
     "name": "stdout",
     "output_type": "stream",
     "text": [
      "                                               title  \\\n",
      "0  I (21F) keep stalking my ex (22M) and his new ...   \n",
      "1  Found something while online stalking my boyfr...   \n",
      "2  my boyfriend [M 23] don't want my [F 22] nudes...   \n",
      "3  my ex [22m] stalks me almost everyday ever sin...   \n",
      "4  My [F20] bf [M21] of 1 year and eight months s...   \n",
      "\n",
      "                                                body  \\\n",
      "0  For context: Me and my ex were broken up for o...   \n",
      "1  TW // mentions of sexual assault, minor mentio...   \n",
      "2  First time ko here sa reddit, not even sure ku...   \n",
      "3  hello! do you guys know why my ex do this? ayo...   \n",
      "4  My bf \\[M21\\] and I \\[F20\\] have been together...   \n",
      "\n",
      "                                                link        author  \\\n",
      "0  https://www.reddit.com/r/relationship_advicePH...   t2_vwoza4il   \n",
      "1  https://www.reddit.com/r/relationship_advicePH...   t2_nbn8e26e   \n",
      "2  https://www.reddit.com/r/relationship_advicePH...  t2_naoyfi9n0   \n",
      "3  https://www.reddit.com/r/relationship_advicePH...   t2_ontk5854   \n",
      "4  https://www.reddit.com/r/relationship_advicePH...  t2_9al2fruw0   \n",
      "\n",
      "              created  upvotes  \n",
      "0 2023-06-23 14:08:04       21  \n",
      "1 2023-05-15 07:41:52        8  \n",
      "2 2023-11-29 00:03:24       22  \n",
      "3 2023-04-12 18:14:10        6  \n",
      "4 2023-04-30 10:37:01        5  \n"
     ]
    }
   ],
   "source": [
    "# Create empty lists to store data\n",
    "title = []\n",
    "body = []\n",
    "link = []\n",
    "author = []\n",
    "upvotes = []\n",
    "created = []\n",
    "\n",
    "subredditname = \"relationship_advicePH\"\n",
    "searchinput = \"physically abuse\"\n",
    "\n",
    "\n",
    "# importing the datetime package  \n",
    "\n",
    "\n",
    "# Iterate through the hot submissions in the specified subreddit\n",
    "for submission in reddit.subreddit(subredditname).search(searchinput):\n",
    "    title.append(submission.title)\n",
    "    body.append(submission.selftext)\n",
    "    link.append(submission.url)\n",
    "    author.append(submission.author_fullname)\n",
    "    created.append(datetime.datetime.fromtimestamp(submission.created))\n",
    "    upvotes.append(submission.score)"
   ]
  },
  {
   "cell_type": "code",
   "execution_count": 14,
   "id": "f3a23ddc",
   "metadata": {
    "scrolled": true
   },
   "outputs": [
    {
     "name": "stdout",
     "output_type": "stream",
     "text": [
      "                                               title  \\\n",
      "0  I (27F) feel like the guy I’m dating (24M) is ...   \n",
      "1  i (25F) want to move out because my mother (46...   \n",
      "2  i was a bad sister and i’m 100% sure it has gr...   \n",
      "3  I(19M) am forced to work with my ex(19F) and s...   \n",
      "4  Found something while online stalking my boyfr...   \n",
      "\n",
      "                                                body  \\\n",
      "0  So I met this guy named Sasha (charot meme ref...   \n",
      "1  hi redditph! it’s my first time posting here b...   \n",
      "2  I (22F) don’t really have a great relationship...   \n",
      "3  Need advice on how to confront either or get o...   \n",
      "4  TW // mentions of sexual assault, minor mentio...   \n",
      "\n",
      "                                                link        author  \\\n",
      "0  https://www.reddit.com/r/relationship_advicePH...  t2_7hlu6at6o   \n",
      "1  https://www.reddit.com/r/relationship_advicePH...  t2_pid2dds1a   \n",
      "2  https://www.reddit.com/r/relationship_advicePH...   t2_in4vsafv   \n",
      "3  https://www.reddit.com/r/relationship_advicePH...  t2_igk3v0cvh   \n",
      "4  https://www.reddit.com/r/relationship_advicePH...   t2_nbn8e26e   \n",
      "\n",
      "              created  upvotes  \n",
      "0 2023-03-20 16:08:55        7  \n",
      "1 2024-02-16 02:48:15        1  \n",
      "2 2023-03-11 21:47:57        3  \n",
      "3 2023-09-16 05:15:04        2  \n",
      "4 2023-05-15 07:41:52        7  \n"
     ]
    }
   ],
   "source": [
    "# Create a DataFrame\n",
    "df = pd.DataFrame({\n",
    "    'title': title,\n",
    "    'body' : body,\n",
    "    'link': link,\n",
    "    'author': author,\n",
    "    'created' : created,\n",
    "    'upvotes':  upvotes\n",
    "})\n",
    "\n",
    "# Save the DataFrame to a CSV file\n",
    "df.to_csv(f\"reddit_{subredditname}_{searchinput}_dataset.csv\", index=False)\n",
    "\n",
    "# Display the DataFrame\n",
    "print(df.head())"
   ]
  },
  {
   "cell_type": "markdown",
   "id": "1c3b09f5",
   "metadata": {},
   "source": [
    "### Alternatively you can just use this and run once instead:"
   ]
  },
  {
   "cell_type": "code",
   "execution_count": 3,
   "id": "4cc3d17a",
   "metadata": {},
   "outputs": [
    {
     "name": "stdout",
     "output_type": "stream",
     "text": [
      "                                               title  \\\n",
      "0  I (21F) keep stalking my ex (22M) and his new ...   \n",
      "1  Found something while online stalking my boyfr...   \n",
      "2  my boyfriend [M 23] don't want my [F 22] nudes...   \n",
      "3  my ex [22m] stalks me almost everyday ever sin...   \n",
      "4  My [F20] bf [M21] of 1 year and eight months s...   \n",
      "\n",
      "                                                body  \\\n",
      "0  For context: Me and my ex were broken up for o...   \n",
      "1  TW // mentions of sexual assault, minor mentio...   \n",
      "2  First time ko here sa reddit, not even sure ku...   \n",
      "3  hello! do you guys know why my ex do this? ayo...   \n",
      "4  My bf \\[M21\\] and I \\[F20\\] have been together...   \n",
      "\n",
      "                                                link        author  \\\n",
      "0  https://www.reddit.com/r/relationship_advicePH...   t2_vwoza4il   \n",
      "1  https://www.reddit.com/r/relationship_advicePH...   t2_nbn8e26e   \n",
      "2  https://www.reddit.com/r/relationship_advicePH...  t2_naoyfi9n0   \n",
      "3  https://www.reddit.com/r/relationship_advicePH...   t2_ontk5854   \n",
      "4  https://www.reddit.com/r/relationship_advicePH...  t2_9al2fruw0   \n",
      "\n",
      "              created  upvotes  num_comments  \n",
      "0 2023-06-23 14:08:04       20            39  \n",
      "1 2023-05-15 07:41:52        7            12  \n",
      "2 2023-11-29 00:03:24       22            17  \n",
      "3 2023-04-12 18:14:10        6             7  \n",
      "4 2023-04-30 10:37:01        4             8  \n"
     ]
    }
   ],
   "source": [
    "\n",
    "subredditnames = [\"alasjuicy\",\"MentalHealthPH\",\"OffmychestPH\",\"Philippines\",\"relationship_advicePH\"]\n",
    "searchinputs = [\"abused\",\n",
    "                 \"sexual harassment\",\n",
    "                 \"Cyberbullying\",\n",
    "                 \"domestic violence\",\n",
    "                 \"emotional abuse\",\n",
    "                 \"physical abuse\",\n",
    "                 \"unsolicited pics\",\n",
    "                 \"stalking\"]\n",
    "\n",
    "\n",
    "# importing the datetime package  \n",
    "for subredditname in subredditnames:\n",
    "    for searchinput in searchinputs:\n",
    "        title = []\n",
    "        body = []\n",
    "        link = []\n",
    "        author = []\n",
    "        upvotes = []\n",
    "        created = []\n",
    "        num_comments = []\n",
    "        \n",
    "\n",
    "        # Iterate through the hot submissions in the specified subreddit\n",
    "        for submission in reddit.subreddit(subredditname).search(searchinput):\n",
    "            title.append(submission.title)\n",
    "            body.append(submission.selftext)\n",
    "            link.append(submission.url)\n",
    "            author.append(submission.author_fullname)\n",
    "            created.append(datetime.datetime.fromtimestamp(submission.created))\n",
    "            upvotes.append(submission.score)\n",
    "            num_comments.append(submission.num_comments)\n",
    "\n",
    "            # Create a DataFrame\n",
    "        df = pd.DataFrame({\n",
    "            'title': title,\n",
    "            'body' : body,\n",
    "            'link': link,\n",
    "            'author': author,\n",
    "            'created' : created,\n",
    "            'upvotes':  upvotes,\n",
    "            'num_comments': num_comments\n",
    "        })\n",
    "\n",
    "        # Save the DataFrame to a CSV file\n",
    "        df.to_csv(f\"reddit_{subredditname}_{searchinput}_dataset.csv\", index=False)\n",
    "\n",
    "    # Display the DataFrame\n",
    "print(df.head())"
   ]
  },
  {
   "cell_type": "code",
   "execution_count": null,
   "id": "abee9274",
   "metadata": {},
   "outputs": [],
   "source": []
  }
 ],
 "metadata": {
  "kernelspec": {
   "display_name": "Python 3 (ipykernel)",
   "language": "python",
   "name": "python3"
  },
  "language_info": {
   "codemirror_mode": {
    "name": "ipython",
    "version": 3
   },
   "file_extension": ".py",
   "mimetype": "text/x-python",
   "name": "python",
   "nbconvert_exporter": "python",
   "pygments_lexer": "ipython3",
   "version": "3.9.13"
  }
 },
 "nbformat": 4,
 "nbformat_minor": 5
}
