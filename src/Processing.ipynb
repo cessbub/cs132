{
 "cells": [
  {
   "cell_type": "markdown",
   "id": "204dbd00-23cd-4ddf-8d2a-8eb9a11bb658",
   "metadata": {},
   "source": [
    "# Loading Dataset and Merging"
   ]
  },
  {
   "cell_type": "code",
   "execution_count": 1,
   "id": "168ee63f-6ae5-4e9a-a9af-0f646238d4f8",
   "metadata": {},
   "outputs": [
    {
     "name": "stderr",
     "output_type": "stream",
     "text": [
      "[nltk_data] Downloading package punkt to\n",
      "[nltk_data]     /Users/princessventures/nltk_data...\n",
      "[nltk_data]   Package punkt is already up-to-date!\n",
      "[nltk_data] Downloading package stopwords to\n",
      "[nltk_data]     /Users/princessventures/nltk_data...\n",
      "[nltk_data]   Package stopwords is already up-to-date!\n"
     ]
    }
   ],
   "source": [
    "import pandas as pd\n",
    "import re\n",
    "import os\n",
    "\n",
    "from nltk.tokenize import word_tokenize\n",
    "from nltk.corpus import stopwords\n",
    "import nltk\n",
    "nltk.download('punkt')\n",
    "nltk.download('stopwords')\n",
    "\n",
    "from sklearn.feature_extraction.text import TfidfVectorizer\n",
    "from sklearn.model_selection import train_test_split\n",
    "from sklearn.linear_model import LogisticRegression\n",
    "from sklearn.metrics import classification_report, accuracy_score\n",
    "from sklearn.preprocessing import OneHotEncoder\n",
    "\n",
    "import matplotlib.pyplot as plt\n",
    "import seaborn as sns\n",
    "from sklearn.metrics import confusion_matrix"
   ]
  },
  {
   "cell_type": "code",
   "execution_count": 2,
   "id": "bd537e6a-c87f-476b-9a61-9243c91bd87d",
   "metadata": {},
   "outputs": [],
   "source": [
    "dataset_path = '../dataset'\n",
    "\n",
    "dataframes = []\n",
    "\n",
    "for filename in os.listdir(dataset_path):\n",
    "    if filename.endswith('.csv'):\n",
    "        \n",
    "        file_path = os.path.join(dataset_path, filename)\n",
    "       \n",
    "        parts = filename.split('_')\n",
    "        subreddit_name = parts[1]\n",
    "        search_input = parts[2]\n",
    "        \n",
    "        df = pd.read_csv(file_path, parse_dates=['created'], dtype={\n",
    "            'title': 'string', 'body': 'string', 'link': 'string', \n",
    "            'author': 'string', 'upvotes': 'int64'\n",
    "        })\n",
    "        \n",
    "        df['subreddit'] = subreddit_name\n",
    "        df['search_input'] = search_input\n",
    "        \n",
    "        if not df.empty and not df.isna().all().all():\n",
    "            dataframes.append(df)\n",
    "\n",
    "if dataframes:\n",
    "    combined_df = pd.concat(dataframes, ignore_index=True)\n",
    "else:\n",
    "    print(\"No valid CSV files found or all files are empty.\")"
   ]
  },
  {
   "cell_type": "code",
   "execution_count": 3,
   "id": "c83e890e-a2f4-4ad2-b169-0ab97dd6a8af",
   "metadata": {},
   "outputs": [
    {
     "data": {
      "text/html": [
       "<div>\n",
       "<style scoped>\n",
       "    .dataframe tbody tr th:only-of-type {\n",
       "        vertical-align: middle;\n",
       "    }\n",
       "\n",
       "    .dataframe tbody tr th {\n",
       "        vertical-align: top;\n",
       "    }\n",
       "\n",
       "    .dataframe thead th {\n",
       "        text-align: right;\n",
       "    }\n",
       "</style>\n",
       "<table border=\"1\" class=\"dataframe\">\n",
       "  <thead>\n",
       "    <tr style=\"text-align: right;\">\n",
       "      <th></th>\n",
       "      <th>title</th>\n",
       "      <th>body</th>\n",
       "      <th>link</th>\n",
       "      <th>author</th>\n",
       "      <th>created</th>\n",
       "      <th>upvotes</th>\n",
       "      <th>num_comments</th>\n",
       "      <th>subreddit</th>\n",
       "      <th>search_input</th>\n",
       "    </tr>\n",
       "  </thead>\n",
       "  <tbody>\n",
       "    <tr>\n",
       "      <th>0</th>\n",
       "      <td>I don't care if you're a girl, unsolicited pic...</td>\n",
       "      <td>So like many of the people on this subreddit, ...</td>\n",
       "      <td>https://www.reddit.com/r/alasjuicy/comments/10...</td>\n",
       "      <td>t2_uzp1eor9</td>\n",
       "      <td>2023-01-10 18:35:34</td>\n",
       "      <td>126</td>\n",
       "      <td>20</td>\n",
       "      <td>alasjuicy</td>\n",
       "      <td>unsolicited pics</td>\n",
       "    </tr>\n",
       "    <tr>\n",
       "      <th>1</th>\n",
       "      <td>Unsolicited Dick Pics Enjoyer</td>\n",
       "      <td>Bago lang ako naging active dito sa AJ. Mostly...</td>\n",
       "      <td>https://www.reddit.com/r/alasjuicy/comments/1a...</td>\n",
       "      <td>t2_9x1nt0ze2</td>\n",
       "      <td>2024-02-08 03:58:45</td>\n",
       "      <td>68</td>\n",
       "      <td>54</td>\n",
       "      <td>alasjuicy</td>\n",
       "      <td>unsolicited pics</td>\n",
       "    </tr>\n",
       "    <tr>\n",
       "      <th>2</th>\n",
       "      <td>UNSOLICITED DICK PIC</td>\n",
       "      <td>Hello men of aj!\n",
       "\n",
       "Eto sakin lang ah. Para saki...</td>\n",
       "      <td>https://www.reddit.com/r/alasjuicy/comments/18...</td>\n",
       "      <td>t2_q6lir5af</td>\n",
       "      <td>2023-11-27 19:50:18</td>\n",
       "      <td>84</td>\n",
       "      <td>59</td>\n",
       "      <td>alasjuicy</td>\n",
       "      <td>unsolicited pics</td>\n",
       "    </tr>\n",
       "    <tr>\n",
       "      <th>3</th>\n",
       "      <td>Unsolicited d!ck pics</td>\n",
       "      <td>it really irks me knowing na ang dami pa ring ...</td>\n",
       "      <td>https://www.reddit.com/r/alasjuicy/comments/1c...</td>\n",
       "      <td>t2_ssss4d1u</td>\n",
       "      <td>2024-04-16 23:39:01</td>\n",
       "      <td>17</td>\n",
       "      <td>36</td>\n",
       "      <td>alasjuicy</td>\n",
       "      <td>unsolicited pics</td>\n",
       "    </tr>\n",
       "    <tr>\n",
       "      <th>4</th>\n",
       "      <td>Kelan ba titigil unsolicited dick pic?</td>\n",
       "      <td>Pakiusap naman, di porket nagpost ako dito kah...</td>\n",
       "      <td>https://www.reddit.com/r/alasjuicy/comments/1b...</td>\n",
       "      <td>t2_xb6pbdoh7</td>\n",
       "      <td>2024-04-03 18:35:41</td>\n",
       "      <td>45</td>\n",
       "      <td>46</td>\n",
       "      <td>alasjuicy</td>\n",
       "      <td>unsolicited pics</td>\n",
       "    </tr>\n",
       "  </tbody>\n",
       "</table>\n",
       "</div>"
      ],
      "text/plain": [
       "                                               title  \\\n",
       "0  I don't care if you're a girl, unsolicited pic...   \n",
       "1                      Unsolicited Dick Pics Enjoyer   \n",
       "2                               UNSOLICITED DICK PIC   \n",
       "3                              Unsolicited d!ck pics   \n",
       "4             Kelan ba titigil unsolicited dick pic?   \n",
       "\n",
       "                                                body  \\\n",
       "0  So like many of the people on this subreddit, ...   \n",
       "1  Bago lang ako naging active dito sa AJ. Mostly...   \n",
       "2  Hello men of aj!\n",
       "\n",
       "Eto sakin lang ah. Para saki...   \n",
       "3  it really irks me knowing na ang dami pa ring ...   \n",
       "4  Pakiusap naman, di porket nagpost ako dito kah...   \n",
       "\n",
       "                                                link        author  \\\n",
       "0  https://www.reddit.com/r/alasjuicy/comments/10...   t2_uzp1eor9   \n",
       "1  https://www.reddit.com/r/alasjuicy/comments/1a...  t2_9x1nt0ze2   \n",
       "2  https://www.reddit.com/r/alasjuicy/comments/18...   t2_q6lir5af   \n",
       "3  https://www.reddit.com/r/alasjuicy/comments/1c...   t2_ssss4d1u   \n",
       "4  https://www.reddit.com/r/alasjuicy/comments/1b...  t2_xb6pbdoh7   \n",
       "\n",
       "              created  upvotes  num_comments  subreddit      search_input  \n",
       "0 2023-01-10 18:35:34      126            20  alasjuicy  unsolicited pics  \n",
       "1 2024-02-08 03:58:45       68            54  alasjuicy  unsolicited pics  \n",
       "2 2023-11-27 19:50:18       84            59  alasjuicy  unsolicited pics  \n",
       "3 2024-04-16 23:39:01       17            36  alasjuicy  unsolicited pics  \n",
       "4 2024-04-03 18:35:41       45            46  alasjuicy  unsolicited pics  "
      ]
     },
     "execution_count": 3,
     "metadata": {},
     "output_type": "execute_result"
    }
   ],
   "source": [
    "combined_df.head()"
   ]
  },
  {
   "cell_type": "code",
   "execution_count": 4,
   "id": "7e0bd0f8-e8e2-493e-a9b9-567b81e6a386",
   "metadata": {},
   "outputs": [
    {
     "data": {
      "text/plain": [
       "(1921, 9)"
      ]
     },
     "execution_count": 4,
     "metadata": {},
     "output_type": "execute_result"
    }
   ],
   "source": [
    "combined_df.shape"
   ]
  },
  {
   "cell_type": "code",
   "execution_count": 5,
   "id": "2de04b0d-2eda-4815-9de5-d8355ce7c6fb",
   "metadata": {},
   "outputs": [
    {
     "data": {
      "text/html": [
       "<div>\n",
       "<style scoped>\n",
       "    .dataframe tbody tr th:only-of-type {\n",
       "        vertical-align: middle;\n",
       "    }\n",
       "\n",
       "    .dataframe tbody tr th {\n",
       "        vertical-align: top;\n",
       "    }\n",
       "\n",
       "    .dataframe thead th {\n",
       "        text-align: right;\n",
       "    }\n",
       "</style>\n",
       "<table border=\"1\" class=\"dataframe\">\n",
       "  <thead>\n",
       "    <tr style=\"text-align: right;\">\n",
       "      <th></th>\n",
       "      <th>created</th>\n",
       "      <th>upvotes</th>\n",
       "      <th>num_comments</th>\n",
       "    </tr>\n",
       "  </thead>\n",
       "  <tbody>\n",
       "    <tr>\n",
       "      <th>count</th>\n",
       "      <td>1921</td>\n",
       "      <td>1921.000000</td>\n",
       "      <td>1921.000000</td>\n",
       "    </tr>\n",
       "    <tr>\n",
       "      <th>mean</th>\n",
       "      <td>2022-07-19 09:35:59.136908032</td>\n",
       "      <td>70.358147</td>\n",
       "      <td>27.482041</td>\n",
       "    </tr>\n",
       "    <tr>\n",
       "      <th>min</th>\n",
       "      <td>2013-08-07 01:22:56</td>\n",
       "      <td>0.000000</td>\n",
       "      <td>0.000000</td>\n",
       "    </tr>\n",
       "    <tr>\n",
       "      <th>25%</th>\n",
       "      <td>2022-01-01 09:27:02</td>\n",
       "      <td>2.000000</td>\n",
       "      <td>2.000000</td>\n",
       "    </tr>\n",
       "    <tr>\n",
       "      <th>50%</th>\n",
       "      <td>2023-04-19 11:03:04</td>\n",
       "      <td>8.000000</td>\n",
       "      <td>7.000000</td>\n",
       "    </tr>\n",
       "    <tr>\n",
       "      <th>75%</th>\n",
       "      <td>2023-11-25 23:58:54</td>\n",
       "      <td>37.000000</td>\n",
       "      <td>23.000000</td>\n",
       "    </tr>\n",
       "    <tr>\n",
       "      <th>max</th>\n",
       "      <td>2024-04-17 09:44:55</td>\n",
       "      <td>4945.000000</td>\n",
       "      <td>1440.000000</td>\n",
       "    </tr>\n",
       "    <tr>\n",
       "      <th>std</th>\n",
       "      <td>NaN</td>\n",
       "      <td>243.546844</td>\n",
       "      <td>78.961560</td>\n",
       "    </tr>\n",
       "  </tbody>\n",
       "</table>\n",
       "</div>"
      ],
      "text/plain": [
       "                             created      upvotes  num_comments\n",
       "count                           1921  1921.000000   1921.000000\n",
       "mean   2022-07-19 09:35:59.136908032    70.358147     27.482041\n",
       "min              2013-08-07 01:22:56     0.000000      0.000000\n",
       "25%              2022-01-01 09:27:02     2.000000      2.000000\n",
       "50%              2023-04-19 11:03:04     8.000000      7.000000\n",
       "75%              2023-11-25 23:58:54    37.000000     23.000000\n",
       "max              2024-04-17 09:44:55  4945.000000   1440.000000\n",
       "std                              NaN   243.546844     78.961560"
      ]
     },
     "execution_count": 5,
     "metadata": {},
     "output_type": "execute_result"
    }
   ],
   "source": [
    "combined_df.describe()"
   ]
  },
  {
   "cell_type": "code",
   "execution_count": 6,
   "id": "f96f38ba-2148-4fb5-9041-d289806346eb",
   "metadata": {},
   "outputs": [
    {
     "data": {
      "text/plain": [
       "title           1921\n",
       "body            1731\n",
       "link            1921\n",
       "author          1921\n",
       "created         1921\n",
       "upvotes         1921\n",
       "num_comments    1921\n",
       "subreddit       1921\n",
       "search_input    1921\n",
       "dtype: int64"
      ]
     },
     "execution_count": 6,
     "metadata": {},
     "output_type": "execute_result"
    }
   ],
   "source": [
    "combined_df.count()"
   ]
  },
  {
   "cell_type": "code",
   "execution_count": 7,
   "id": "2775e6cf-2260-4916-a7cb-c77f3bde0240",
   "metadata": {},
   "outputs": [
    {
     "data": {
      "text/plain": [
       "array(['alasjuicy', 'OffmychestPH', 'relationship advicePH',\n",
       "       'MentalHealthPH', 'Philippines'], dtype=object)"
      ]
     },
     "execution_count": 7,
     "metadata": {},
     "output_type": "execute_result"
    }
   ],
   "source": [
    "combined_df['subreddit'].unique()"
   ]
  },
  {
   "cell_type": "code",
   "execution_count": 8,
   "id": "d8885af3-0cf7-4c35-8ce5-8d1483871d4d",
   "metadata": {},
   "outputs": [
    {
     "data": {
      "text/plain": [
       "array(['unsolicited pics', 'abused', 'emotional abuse', 'Cyberbullying',\n",
       "       'stalking', 'physical abuse', 'domestic violence',\n",
       "       'sexual harassment'], dtype=object)"
      ]
     },
     "execution_count": 8,
     "metadata": {},
     "output_type": "execute_result"
    }
   ],
   "source": [
    "combined_df['search_input'].unique()"
   ]
  },
  {
   "cell_type": "markdown",
   "id": "52eb4037-ef4d-4dc6-9dbd-861802c5f502",
   "metadata": {},
   "source": [
    "# Pre-processing Steps"
   ]
  },
  {
   "cell_type": "code",
   "execution_count": 9,
   "id": "19ed615b-afaf-4cc7-af54-79d24c4a7573",
   "metadata": {},
   "outputs": [
    {
     "data": {
      "text/plain": [
       "title             0\n",
       "body            190\n",
       "link              0\n",
       "author            0\n",
       "created           0\n",
       "upvotes           0\n",
       "num_comments      0\n",
       "subreddit         0\n",
       "search_input      0\n",
       "dtype: int64"
      ]
     },
     "execution_count": 9,
     "metadata": {},
     "output_type": "execute_result"
    }
   ],
   "source": [
    "combined_df.isnull().sum()"
   ]
  },
  {
   "cell_type": "code",
   "execution_count": 10,
   "id": "3099785c-b5a9-4b36-a5a9-6bc4e969b480",
   "metadata": {},
   "outputs": [],
   "source": [
    "combined_df.dropna(subset=['body'], inplace=True)"
   ]
  },
  {
   "cell_type": "code",
   "execution_count": 11,
   "id": "463d4006-b87b-4b35-9609-c30571d166ea",
   "metadata": {},
   "outputs": [],
   "source": [
    "def find_age_gender(text):\n",
    "    matches = re.findall(r'\\b(\\d{2}\\s?[MF])\\b', text.upper())\n",
    "    return matches\n",
    "\n",
    "combined_df['age_gender'] = combined_df['body'].apply(find_age_gender)"
   ]
  },
  {
   "cell_type": "code",
   "execution_count": 12,
   "id": "be4c5024-06fc-4ac2-9ddb-dba4422feb23",
   "metadata": {
    "scrolled": true
   },
   "outputs": [],
   "source": [
    "def remove_mentions_and_urls(text):\n",
    "    url_pattern = r'https?://\\S+|www\\.\\S+'\n",
    "    subreddit_pattern = r'\\br/\\w+'\n",
    "\n",
    "    \n",
    "    text = re.sub(url_pattern, '', text)\n",
    "    text = re.sub(subreddit_pattern, '', text)\n",
    "    text = re.sub(r'\\[([^\\]]+)\\]\\(\\)', r'\\1', text)\n",
    "\n",
    "    return text\n",
    "\n",
    "combined_df['body'] = combined_df['body'].apply(remove_mentions_and_urls)"
   ]
  },
  {
   "cell_type": "code",
   "execution_count": 13,
   "id": "f0c1e7ca-0265-4d89-9a52-225d871cf221",
   "metadata": {},
   "outputs": [],
   "source": [
    "# text tokenization and stop words removal\n",
    "\n",
    "stop_words = set(stopwords.words('english'))\n",
    "\n",
    "def tokenize_and_remove_stopwords(text):\n",
    "    words = word_tokenize(text)\n",
    "    filtered_words = [word for word in words if word not in stop_words]\n",
    "    return filtered_words"
   ]
  },
  {
   "cell_type": "code",
   "execution_count": 14,
   "id": "365e8d0d-8adb-4ba7-a8b0-2099809703f1",
   "metadata": {},
   "outputs": [],
   "source": [
    "combined_df['title'] = combined_df['title'].apply(tokenize_and_remove_stopwords)\n",
    "combined_df['body'] = combined_df['body'].apply(tokenize_and_remove_stopwords)"
   ]
  },
  {
   "cell_type": "code",
   "execution_count": 15,
   "id": "fcb88c76-1ad8-4bee-a911-4c25b1d8c231",
   "metadata": {},
   "outputs": [],
   "source": [
    "# feature engineering\n",
    "\n",
    "# extract year, month, day from the 'created' column\n",
    "combined_df['year'] = combined_df['created'].dt.year\n",
    "combined_df['month'] = combined_df['created'].dt.month\n",
    "combined_df['day'] = combined_df['created'].dt.day"
   ]
  },
  {
   "cell_type": "code",
   "execution_count": 16,
   "id": "ab872e5e-191e-4b2d-bfc3-ffac43df2782",
   "metadata": {},
   "outputs": [],
   "source": [
    "# calculate post length\n",
    "combined_df['post_length'] = combined_df['body'].apply(len)"
   ]
  },
  {
   "cell_type": "code",
   "execution_count": 17,
   "id": "82cb4418-b814-430f-883b-7b57a4d7fef5",
   "metadata": {},
   "outputs": [],
   "source": [
    "# calculate day of the week and other time-related features\n",
    "combined_df['day_of_week'] = combined_df['created'].dt.dayofweek\n",
    "combined_df['is_weekend'] = combined_df['day_of_week'].apply(lambda x: 1 if x >= 5 else 0)\n",
    "combined_df['time_of_day'] = pd.cut(combined_df['created'].dt.hour, \n",
    "                                   bins=[0, 6, 12, 18, 24], \n",
    "                                   labels=['Night', 'Morning', 'Afternoon', 'Evening'], \n",
    "                                   right=False)"
   ]
  },
  {
   "cell_type": "code",
   "execution_count": 18,
   "id": "8412f96b-ef2e-4b0d-ae5f-e3a9242ae1d2",
   "metadata": {},
   "outputs": [],
   "source": [
    "# relative_upvotes\n",
    "# normalize upvotes by the average upvotes per month to see if certain posts got unusually high engagement\n",
    "monthly_avg_upvotes = combined_df.groupby('month')['upvotes'].transform('mean')\n",
    "combined_df['upvotes_relative'] = combined_df['upvotes'] / monthly_avg_upvotes"
   ]
  },
  {
   "cell_type": "code",
   "execution_count": 19,
   "id": "9c870b64-75af-4eca-9897-1faad4809db6",
   "metadata": {},
   "outputs": [],
   "source": [
    "membership_sizes = {\n",
    "    'alasjuicy': 247000,\n",
    "    'OffmychestPH': 493000,\n",
    "    'relationship advicePH': 130000,\n",
    "    'MentalHealthPH': 46000,\n",
    "    'Philippines': 1700000\n",
    "}\n",
    "\n",
    "combined_df['subreddit_size'] = combined_df['subreddit'].map(membership_sizes)"
   ]
  },
  {
   "cell_type": "code",
   "execution_count": 20,
   "id": "8aa56e9d-a7f5-49ea-8373-2a0861545dbb",
   "metadata": {},
   "outputs": [],
   "source": [
    "combined_df['upvotes_per_capita'] = combined_df['upvotes'] / combined_df['subreddit_size']"
   ]
  },
  {
   "cell_type": "code",
   "execution_count": 21,
   "id": "36476007-6007-4bf1-9bd2-818dd574ec89",
   "metadata": {},
   "outputs": [
    {
     "data": {
      "text/plain": [
       "0       []\n",
       "1       []\n",
       "2       []\n",
       "3       []\n",
       "4       []\n",
       "        ..\n",
       "1916    []\n",
       "1917    []\n",
       "1918    []\n",
       "1919    []\n",
       "1920    []\n",
       "Name: age_gender, Length: 1731, dtype: object"
      ]
     },
     "execution_count": 21,
     "metadata": {},
     "output_type": "execute_result"
    }
   ],
   "source": [
    "combined_df['age_gender']"
   ]
  },
  {
   "cell_type": "markdown",
   "id": "7c5ad126-1b42-45f9-8ead-f5102c479250",
   "metadata": {},
   "source": [
    "# PH Holidays"
   ]
  },
  {
   "cell_type": "code",
   "execution_count": 22,
   "id": "6d8fff0a-952e-41b3-a319-5fa5a95efad7",
   "metadata": {},
   "outputs": [
    {
     "data": {
      "text/html": [
       "<div>\n",
       "<style scoped>\n",
       "    .dataframe tbody tr th:only-of-type {\n",
       "        vertical-align: middle;\n",
       "    }\n",
       "\n",
       "    .dataframe tbody tr th {\n",
       "        vertical-align: top;\n",
       "    }\n",
       "\n",
       "    .dataframe thead th {\n",
       "        text-align: right;\n",
       "    }\n",
       "</style>\n",
       "<table border=\"1\" class=\"dataframe\">\n",
       "  <thead>\n",
       "    <tr style=\"text-align: right;\">\n",
       "      <th></th>\n",
       "      <th>Date</th>\n",
       "      <th>Holiday</th>\n",
       "      <th>Type</th>\n",
       "    </tr>\n",
       "  </thead>\n",
       "  <tbody>\n",
       "    <tr>\n",
       "      <th>0</th>\n",
       "      <td>01-01</td>\n",
       "      <td>New Year's Day</td>\n",
       "      <td>Regular</td>\n",
       "    </tr>\n",
       "    <tr>\n",
       "      <th>1</th>\n",
       "      <td>03-28</td>\n",
       "      <td>Maundy Thursday</td>\n",
       "      <td>Regular</td>\n",
       "    </tr>\n",
       "    <tr>\n",
       "      <th>2</th>\n",
       "      <td>03-29</td>\n",
       "      <td>Good Friday</td>\n",
       "      <td>Regular</td>\n",
       "    </tr>\n",
       "    <tr>\n",
       "      <th>3</th>\n",
       "      <td>04-09</td>\n",
       "      <td>Araw ng Kagitingan</td>\n",
       "      <td>Regular</td>\n",
       "    </tr>\n",
       "    <tr>\n",
       "      <th>4</th>\n",
       "      <td>05-01</td>\n",
       "      <td>Labor Day</td>\n",
       "      <td>Regular</td>\n",
       "    </tr>\n",
       "    <tr>\n",
       "      <th>5</th>\n",
       "      <td>06-12</td>\n",
       "      <td>Independence Day</td>\n",
       "      <td>Regular</td>\n",
       "    </tr>\n",
       "    <tr>\n",
       "      <th>6</th>\n",
       "      <td>08-26</td>\n",
       "      <td>National Heroes Day</td>\n",
       "      <td>Regular</td>\n",
       "    </tr>\n",
       "    <tr>\n",
       "      <th>7</th>\n",
       "      <td>11-30</td>\n",
       "      <td>Bonifacio Day</td>\n",
       "      <td>Regular</td>\n",
       "    </tr>\n",
       "    <tr>\n",
       "      <th>8</th>\n",
       "      <td>12-25</td>\n",
       "      <td>Christmas Day</td>\n",
       "      <td>Regular</td>\n",
       "    </tr>\n",
       "    <tr>\n",
       "      <th>9</th>\n",
       "      <td>12-30</td>\n",
       "      <td>Rizal Day</td>\n",
       "      <td>Regular</td>\n",
       "    </tr>\n",
       "    <tr>\n",
       "      <th>10</th>\n",
       "      <td>04-10</td>\n",
       "      <td>Eid'l Fitr</td>\n",
       "      <td>Regular</td>\n",
       "    </tr>\n",
       "    <tr>\n",
       "      <th>11</th>\n",
       "      <td>08-21</td>\n",
       "      <td>Ninoy Aquino Day</td>\n",
       "      <td>Special Non-Working</td>\n",
       "    </tr>\n",
       "    <tr>\n",
       "      <th>12</th>\n",
       "      <td>11-01</td>\n",
       "      <td>All Saints' Day</td>\n",
       "      <td>Special Non-Working</td>\n",
       "    </tr>\n",
       "    <tr>\n",
       "      <th>13</th>\n",
       "      <td>12-08</td>\n",
       "      <td>Feast of the Immaculate Conception of Mary</td>\n",
       "      <td>Special Non-Working</td>\n",
       "    </tr>\n",
       "    <tr>\n",
       "      <th>14</th>\n",
       "      <td>12-31</td>\n",
       "      <td>Last Day of the Year</td>\n",
       "      <td>Special Non-Working</td>\n",
       "    </tr>\n",
       "    <tr>\n",
       "      <th>15</th>\n",
       "      <td>02-09</td>\n",
       "      <td>Additional Special (Non-Working) Day</td>\n",
       "      <td>Special Non-Working</td>\n",
       "    </tr>\n",
       "    <tr>\n",
       "      <th>16</th>\n",
       "      <td>02-10</td>\n",
       "      <td>Chinese New Year</td>\n",
       "      <td>Special Non-Working</td>\n",
       "    </tr>\n",
       "    <tr>\n",
       "      <th>17</th>\n",
       "      <td>03-30</td>\n",
       "      <td>Black Saturday</td>\n",
       "      <td>Special Non-Working</td>\n",
       "    </tr>\n",
       "    <tr>\n",
       "      <th>18</th>\n",
       "      <td>11-02</td>\n",
       "      <td>All Souls' Day</td>\n",
       "      <td>Special Non-Working</td>\n",
       "    </tr>\n",
       "    <tr>\n",
       "      <th>19</th>\n",
       "      <td>12-24</td>\n",
       "      <td>Christmas Eve</td>\n",
       "      <td>Special Non-Working</td>\n",
       "    </tr>\n",
       "    <tr>\n",
       "      <th>20</th>\n",
       "      <td>03-01</td>\n",
       "      <td>Women's Month Start</td>\n",
       "      <td>Special Non-Working</td>\n",
       "    </tr>\n",
       "  </tbody>\n",
       "</table>\n",
       "</div>"
      ],
      "text/plain": [
       "     Date                                     Holiday                 Type\n",
       "0   01-01                              New Year's Day              Regular\n",
       "1   03-28                             Maundy Thursday              Regular\n",
       "2   03-29                                 Good Friday              Regular\n",
       "3   04-09                          Araw ng Kagitingan              Regular\n",
       "4   05-01                                   Labor Day              Regular\n",
       "5   06-12                            Independence Day              Regular\n",
       "6   08-26                         National Heroes Day              Regular\n",
       "7   11-30                               Bonifacio Day              Regular\n",
       "8   12-25                               Christmas Day              Regular\n",
       "9   12-30                                   Rizal Day              Regular\n",
       "10  04-10                                  Eid'l Fitr              Regular\n",
       "11  08-21                            Ninoy Aquino Day  Special Non-Working\n",
       "12  11-01                             All Saints' Day  Special Non-Working\n",
       "13  12-08  Feast of the Immaculate Conception of Mary  Special Non-Working\n",
       "14  12-31                        Last Day of the Year  Special Non-Working\n",
       "15  02-09        Additional Special (Non-Working) Day  Special Non-Working\n",
       "16  02-10                            Chinese New Year  Special Non-Working\n",
       "17  03-30                              Black Saturday  Special Non-Working\n",
       "18  11-02                              All Souls' Day  Special Non-Working\n",
       "19  12-24                               Christmas Eve  Special Non-Working\n",
       "20  03-01                         Women's Month Start  Special Non-Working"
      ]
     },
     "execution_count": 22,
     "metadata": {},
     "output_type": "execute_result"
    }
   ],
   "source": [
    "data = {\n",
    "    'Date': ['01-01', '03-28', '03-29', '04-09', '05-01', '06-12', '08-26', '11-30', '12-25', '12-30', \n",
    "             '04-10', '08-21', '11-01', '12-08', '12-31', '02-09', '02-10', '03-30', '11-02', '12-24', '03-01'],\n",
    "    'Holiday': ['New Year\\'s Day', 'Maundy Thursday', 'Good Friday', 'Araw ng Kagitingan', 'Labor Day', \n",
    "                'Independence Day', 'National Heroes Day', 'Bonifacio Day', 'Christmas Day', 'Rizal Day', \n",
    "                'Eid\\'l Fitr', 'Ninoy Aquino Day', 'All Saints\\' Day', 'Feast of the Immaculate Conception of Mary', \n",
    "                'Last Day of the Year', 'Additional Special (Non-Working) Day', 'Chinese New Year', 'Black Saturday', \n",
    "                'All Souls\\' Day', 'Christmas Eve', 'Women\\'s Month Start'],\n",
    "    'Type': ['Regular', 'Regular', 'Regular', 'Regular', 'Regular', 'Regular', 'Regular', 'Regular', 'Regular', \n",
    "             'Regular', 'Regular', 'Special Non-Working', 'Special Non-Working', 'Special Non-Working', \n",
    "             'Special Non-Working', 'Special Non-Working', 'Special Non-Working', 'Special Non-Working', \n",
    "             'Special Non-Working', 'Special Non-Working', 'Special Non-Working']\n",
    "}\n",
    "\n",
    "holidays_df = pd.DataFrame(data)\n",
    "\n",
    "holidays_df\n"
   ]
  },
  {
   "cell_type": "code",
   "execution_count": 23,
   "id": "636fa90b-4fc9-4286-8330-e68a7ce2789e",
   "metadata": {},
   "outputs": [],
   "source": [
    "holidays_df.to_csv('ph_holidays.csv', index=False)"
   ]
  },
  {
   "cell_type": "markdown",
   "id": "88ff0e2c-cf19-45d6-9e86-7a1bf5a93b87",
   "metadata": {},
   "source": [
    "# Extracting relationship from text"
   ]
  },
  {
   "cell_type": "code",
   "execution_count": 24,
   "id": "d3ae6a27-d2cc-421c-8acf-98c6776339b6",
   "metadata": {},
   "outputs": [],
   "source": [
    "import subprocess\n",
    "import sys\n",
    "\n",
    "def install_packages():\n",
    "    subprocess.check_call([sys.executable, \"-m\", \"pip\", \"install\", \"spacy\"])\n",
    "\n",
    "    subprocess.check_call([sys.executable, \"-m\", \"spacy\", \"download\", \"en_core_web_sm\"])\n",
    "\n",
    "try:\n",
    "    import spacy\n",
    "    nlp = spacy.load(\"en_core_web_sm\")\n",
    "    \n",
    "except OSError:\n",
    "    install_packages()\n",
    "    import spacy\n",
    "    nlp = spacy.load(\"en_core_web_sm\")"
   ]
  },
  {
   "cell_type": "code",
   "execution_count": 25,
   "id": "6dd364c1-a366-46fd-b1f3-9427111471f7",
   "metadata": {},
   "outputs": [],
   "source": [
    "from spacy.matcher import Matcher\n",
    "\n",
    "nlp = spacy.load(\"en_core_web_sm\")\n",
    "matcher = Matcher(nlp.vocab)"
   ]
  },
  {
   "cell_type": "code",
   "execution_count": 26,
   "id": "8dfc95e7-e418-4c72-9c24-a0a4e550e594",
   "metadata": {},
   "outputs": [],
   "source": [
    "relationship_patterns = {\n",
    "    'family': [\n",
    "        [{\"LOWER\": word}] for word in ['mother', 'father', 'sister', 'brother', 'sibling', 'nanay', 'tatay', 'kuya', 'ate', 'kapatid', \n",
    "                                       'lola', 'lolo', 'grandmother', 'grandfather', 'cousin', 'pinsan', 'tito', 'tita', 'uncle', 'aunt']\n",
    "    ],\n",
    "    'partner': [\n",
    "        [{\"LOWER\": word}] for word in ['husband', 'wife', 'boyfriend', 'girlfriend', 'bf', 'gf', 'asawa', 'jowa', 'so', 'partner', \n",
    "                                       'spouse', 'misis', 'mister', 'fiance', 'fiancee', 'kasintahan', 'syota', 'live-in', 'livein']\n",
    "    ],\n",
    "    'classmate': [\n",
    "        [{\"LOWER\": word}] for word in ['classmate', 'kaklase', 'schoolmate', 'seatmate', 'batchmate', 'school friend']\n",
    "    ],\n",
    "    'acquaintance': [\n",
    "        [{\"LOWER\": word}] for word in ['friend', 'neighbor', 'colleague', 'workmate', 'kaibigan', 'kapitbahay', 'kasamahan', 'boss', \n",
    "                                       'supervisor', 'manager', 'co-worker', 'barkada', 'comrade', 'kabarkada', 'amigo', 'amiga']\n",
    "    ],\n",
    "    'stranger': [\n",
    "        [{\"LOWER\": word}] for word in ['stranger', 'unknown person', 'di kilala', 'unknown', 'outsider', 'foreigner', 'bystander']\n",
    "    ]\n",
    "}"
   ]
  },
  {
   "cell_type": "code",
   "execution_count": 27,
   "id": "2717dbaf-10bf-4d4a-bd8b-02a25d76ec75",
   "metadata": {},
   "outputs": [],
   "source": [
    "for label, patterns in relationship_patterns.items():\n",
    "    matcher.add(label, patterns)\n",
    "\n",
    "def extract_relationship(text):\n",
    "    doc = nlp(text.lower())\n",
    "    matches = matcher(doc)\n",
    "    if matches:\n",
    "        match_id, start, end = max(matches, key=lambda x: x[1]-x[2])\n",
    "        return nlp.vocab.strings[match_id]\n",
    "    return 'unknown'"
   ]
  },
  {
   "cell_type": "code",
   "execution_count": 28,
   "id": "65e37936-0023-4eab-9436-c151808eb419",
   "metadata": {},
   "outputs": [],
   "source": [
    "combined_df['body_text'] = combined_df['body'].apply(lambda x: ' '.join(x) if isinstance(x, list) else x)\n",
    "combined_df['relationship'] = combined_df['body_text'].apply(extract_relationship)"
   ]
  },
  {
   "cell_type": "code",
   "execution_count": 29,
   "id": "b611a363-d269-4e97-9407-6e3a319a3606",
   "metadata": {},
   "outputs": [],
   "source": [
    "combined_df.to_csv('preprocessed_dataset.csv', index=False)"
   ]
  },
  {
   "cell_type": "markdown",
   "id": "efff9780-a084-42a3-8a42-fc494f7c41b3",
   "metadata": {},
   "source": [
    "# Train model and evaluate"
   ]
  },
  {
   "cell_type": "code",
   "execution_count": 30,
   "id": "b99e64a8-700d-4f7d-b29f-2b4c2f431022",
   "metadata": {},
   "outputs": [],
   "source": [
    "encoder = OneHotEncoder()\n",
    "relationship_encoded = encoder.fit_transform(combined_df[['relationship']])\n",
    "\n",
    "tfidf_vectorizer = TfidfVectorizer(max_features=5000)\n",
    "text_features = tfidf_vectorizer.fit_transform(combined_df['body_text'])\n",
    "\n",
    "from scipy.sparse import hstack\n",
    "X = hstack([text_features, relationship_encoded])\n",
    "\n",
    "y = combined_df['search_input']\n"
   ]
  },
  {
   "cell_type": "code",
   "execution_count": 31,
   "id": "d448e6a0-4dba-488a-a54d-acd6c16194cd",
   "metadata": {},
   "outputs": [
    {
     "name": "stdout",
     "output_type": "stream",
     "text": [
      "Accuracy: 0.4576923076923077\n",
      "Classification Report:\n",
      "                    precision    recall  f1-score   support\n",
      "\n",
      "    Cyberbullying       0.21      0.40      0.28        10\n",
      "           abused       0.49      0.33      0.39       118\n",
      "domestic violence       0.55      0.48      0.51        25\n",
      "  emotional abuse       0.25      0.26      0.26        92\n",
      "   physical abuse       0.34      0.33      0.34        99\n",
      "sexual harassment       0.59      0.64      0.61        64\n",
      "         stalking       0.63      0.76      0.69       102\n",
      " unsolicited pics       0.54      0.70      0.61        10\n",
      "\n",
      "         accuracy                           0.46       520\n",
      "        macro avg       0.45      0.49      0.46       520\n",
      "     weighted avg       0.46      0.46      0.45       520\n",
      "\n"
     ]
    }
   ],
   "source": [
    "X_train, X_test, y_train, y_test = train_test_split(X, y, test_size=0.3, random_state=42)\n",
    "\n",
    "model = LogisticRegression(random_state=42, class_weight='balanced')\n",
    "model.fit(X_train, y_train)\n",
    "\n",
    "y_pred = model.predict(X_test)\n",
    "print(\"Accuracy:\", accuracy_score(y_test, y_pred))\n",
    "print(\"Classification Report:\\n\", classification_report(y_test, y_pred, zero_division=0))\n"
   ]
  },
  {
   "cell_type": "code",
   "execution_count": 32,
   "id": "2c20d34c-08b2-4056-8b2b-6ffffbc8d88d",
   "metadata": {},
   "outputs": [
    {
     "data": {
      "image/png": "[encoded data removed]",
      "text/plain": [
       "<Figure size 1000x700 with 2 Axes>"
      ]
     },
     "metadata": {},
     "output_type": "display_data"
    }
   ],
   "source": [
    "cm = confusion_matrix(y_test, y_pred, labels=model.classes_)\n",
    "\n",
    "plt.figure(figsize=(10, 7))\n",
    "sns.heatmap(cm, annot=True, fmt='d', cmap='Blues', xticklabels=model.classes_, yticklabels=model.classes_)\n",
    "plt.title('Confusion Matrix')\n",
    "plt.xlabel('Predicted Labels')\n",
    "plt.ylabel('True Labels')\n",
    "plt.show()\n"
   ]
  }
 ],
 "metadata": {
  "kernelspec": {
   "display_name": "Python 3 (ipykernel)",
   "language": "python",
   "name": "python3"
  },
  "language_info": {
   "codemirror_mode": {
    "name": "ipython",
    "version": 3
   },
   "file_extension": ".py",
   "mimetype": "text/x-python",
   "name": "python",
   "nbconvert_exporter": "python",
   "pygments_lexer": "ipython3",
   "version": "3.11.6"
  }
 },
 "nbformat": 4,
 "nbformat_minor": 5
}
