{
 "cells": [
  {
   "cell_type": "code",
   "execution_count": 48,
   "id": "4b89faf6",
   "metadata": {},
   "outputs": [],
   "source": [
    "import praw\n",
    "import pandas as pd\n",
    "from datetime import datetime\n",
    "import datetime\n",
    "import re\n"
   ]
  },
  {
   "cell_type": "code",
   "execution_count": 47,
   "id": "00f27cc3",
   "metadata": {},
   "outputs": [
    {
     "name": "stdout",
     "output_type": "stream",
     "text": [
      "                                               title  \\\n",
      "0     The Auditory Pleasure of Being Used and Abused   \n",
      "1                    Her mom thought I'm abusing her   \n",
      "2         why do people tolerate this kind of abuse?   \n",
      "3  Saw my abuser today and had to pretend I didn’...   \n",
      "4                     weird response to sexual abuse   \n",
      "\n",
      "                                                body  \\\n",
      "0  *Long read.* Sit tight and strap in.\\n\\nYou’d ...   \n",
      "1  The other other day, Me and my partner got rea...   \n",
      "2  There are always so many posts involving inces...   \n",
      "3  \\nI was molested from time to time from the ag...   \n",
      "4  TW:SEXUAL ABUSE\\n\\n\\nI'm a victim of sexual ab...   \n",
      "\n",
      "                                                link       author  \\\n",
      "0  https://www.reddit.com/r/alasjuicy/comments/yv...  t2_snjvptth   \n",
      "1  https://www.reddit.com/r/alasjuicy/comments/1a...  t2_uk1z6h3f   \n",
      "2  https://www.reddit.com/r/alasjuicy/comments/uj...  t2_4lv0em6g   \n",
      "3  https://www.reddit.com/r/alasjuicy/comments/10...  t2_5xg4fclu   \n",
      "4  https://www.reddit.com/r/alasjuicy/comments/sz...  t2_73y2ptx4   \n",
      "\n",
      "               created upvotes  subreddit searchinput  \n",
      "0  2022-11-15 16:46:41      30  alasjuicy      abused  \n",
      "1  2024-01-28 03:23:23      28  alasjuicy      abused  \n",
      "2  2022-05-06 13:34:41     143  alasjuicy      abused  \n",
      "3  2023-01-30 23:53:34     206  alasjuicy      abused  \n",
      "4  2022-02-23 15:36:26      68  alasjuicy      abused  \n"
     ]
    }
   ],
   "source": [
    "subredditnames = [\"alasjuicy\",\"MentalHealthPH\",\"OffmychestPH\",\"Philippines\",\"relationship_advicePH\"]\n",
    "searchinputs = [\"abused\",\n",
    "                 \"sexual harassment\",\n",
    "                 \"Cyberbullying\",\n",
    "                 \"domestic violence\",\n",
    "                 \"emotional abuse\",\n",
    "                 \"physical abuse\",\n",
    "                 \"unsolicited pics\",\n",
    "                 \"stalking\"]\n",
    "\n",
    "\n",
    "# df = pd.DataFrame()\n",
    "\n",
    "datalist = [] \n",
    "\n",
    "#read the csv file into a dataframe\n",
    "for subredditname in subredditnames:\n",
    "    for searchinput in searchinputs:\n",
    "        raw_data = pd.read_csv(f\"C:/Users/Arian/GitHub/cs132-project/Process/reddit_{subredditname}_{searchinput}_dataset.csv\")\n",
    "        raw_data['subreddit'] = subredditname\n",
    "        raw_data['searchinput'] = searchinput \n",
    "        datalist.append(raw_data)\n",
    "\n",
    "df = pd.concat(datalist, ignore_index=True)\n",
    "df.drop_duplicates()\n",
    "df.to_csv(f\"collated_genderviolence_dataset.csv\", index=False)\n",
    "\n",
    "print(df.head())\n"
   ]
  },
  {
   "cell_type": "code",
   "execution_count": 61,
   "id": "f359bfab",
   "metadata": {},
   "outputs": [],
   "source": [
    "new_df = pd.read_csv(f\"C:/Users/Arian/GitHub/cs132-project/Process/collated_genderviolence_dataset.csv\")\n",
    "\n",
    "body_column = new_df[\"body\"]\n",
    "age_and_sex = body_column.str.findall(r'([1-9][0-9]?[mfMF])')\n",
    "new_df['age_and_sex'] = age_and_sex\n",
    "\n",
    "new_df.to_csv(f\"extracted_genderviolence_dataset.csv\", index=False)"
   ]
  },
  {
   "cell_type": "code",
   "execution_count": null,
   "id": "44d59188",
   "metadata": {},
   "outputs": [],
   "source": [
    "import pandas as pd\n",
    "\n",
    "df = pd.DataFrame({'phone': ['(123) 456-7890', '(456) 789-0123', '(789) 012-3456']})\n",
    "phone_column = df['phone']\n",
    "\n",
    "area_code = phone_column.str.extract(r'\\((\\d{3})\\)')\n",
    "last_four_digits = phone_column.str.extract(r'-(\\d{4})')\n",
    "\n",
    "df['area_code'] = area_code\n",
    "df['last_four_digits'] = last_four_digits\n",
    "\n",
    "print(df)"
   ]
  }
 ],
 "metadata": {
  "kernelspec": {
   "display_name": "Python 3 (ipykernel)",
   "language": "python",
   "name": "python3"
  },
  "language_info": {
   "codemirror_mode": {
    "name": "ipython",
    "version": 3
   },
   "file_extension": ".py",
   "mimetype": "text/x-python",
   "name": "python",
   "nbconvert_exporter": "python",
   "pygments_lexer": "ipython3",
   "version": "3.9.13"
  }
 },
 "nbformat": 4,
 "nbformat_minor": 5
}
