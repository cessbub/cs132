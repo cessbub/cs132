{
 "cells": [
  {
   "cell_type": "code",
   "execution_count": 3,
   "id": "f83420d6",
   "metadata": {},
   "outputs": [],
   "source": [
    "import praw\n",
    "import pandas as pd\n",
    "from datetime import datetime\n",
    "import datetime  \n"
   ]
  },
  {
   "cell_type": "code",
   "execution_count": 4,
   "id": "09c991e9",
   "metadata": {},
   "outputs": [],
   "source": [
    "reddit = praw.Reddit(\n",
    "        client_id='yrkdbTx3mnMgTbxFwJgEJg',\n",
    "        client_secret='andB1GoS9fPXomZfdmlItJIMhQDXhQ',\n",
    "        password=\"remaneses\",\n",
    "        username=\"izayaaa\",\n",
    "        user_agent='test by /u/izayaaa',\n",
    "    )"
   ]
  },
  {
   "cell_type": "code",
   "execution_count": 5,
   "id": "cb84b486",
   "metadata": {},
   "outputs": [],
   "source": [
    "# Create empty lists to store data\n",
    "title = []\n",
    "body = []\n",
    "link = []\n",
    "author = []\n",
    "upvotes = []\n",
    "created = []\n",
    "\n",
    "subredditname = \"Philippines\"\n",
    "searchinput = \"domestic violence\"\n",
    "\n",
    "\n",
    "# importing the datetime package  \n",
    "\n",
    "\n",
    "# Iterate through the hot submissions in the specified subreddit\n",
    "for submission in reddit.subreddit(subredditname).search(searchinput):\n",
    "    title.append(submission.title)\n",
    "    body.append(submission.selftext)\n",
    "    link.append(submission.url)\n",
    "    author.append(submission.author_fullname)\n",
    "    created.append(datetime.datetime.fromtimestamp(submission.created))\n",
    "    upvotes.append(submission.score)"
   ]
  },
  {
   "cell_type": "code",
   "execution_count": 6,
   "id": "f3a23ddc",
   "metadata": {
    "scrolled": true
   },
   "outputs": [
    {
     "name": "stdout",
     "output_type": "stream",
     "text": [
      "                                         title  \\\n",
      "0   So domestic violence prank is a thing now?   \n",
      "1                    Is it Domestic Violence?    \n",
      "2  Romanticizing Poverty and Domestic Violence   \n",
      "3    Domestic Violence in Apartment next door.   \n",
      "4         domestic violence hotline in the PH?   \n",
      "\n",
      "                                                body  \\\n",
      "0                                                      \n",
      "1  I live in a household where it is fine when my...   \n",
      "2                                                      \n",
      "3  Need serious advice on what to do. I reside in...   \n",
      "4  I'm okay! Just doing a crime documentary and w...   \n",
      "\n",
      "                                                link        author  \\\n",
      "0              https://www.reddit.com/gallery/qe82yf   t2_43b5a9hz   \n",
      "1  https://www.reddit.com/r/Philippines/comments/...  t2_50yxkw6e2   \n",
      "2                https://i.redd.it/9k9j8ba4nuvb1.png   t2_w9g6wlv0   \n",
      "3  https://www.reddit.com/r/Philippines/comments/...   t2_vato3oi5   \n",
      "4  https://www.reddit.com/r/Philippines/comments/...   t2_5c666ese   \n",
      "\n",
      "              created  upvotes  \n",
      "0 2021-10-24 00:26:26      437  \n",
      "1 2024-03-22 13:47:36        5  \n",
      "2 2023-10-23 08:46:30        0  \n",
      "3 2022-12-30 19:00:40       21  \n",
      "4 2022-08-26 06:24:34       21  \n"
     ]
    }
   ],
   "source": [
    "# Create a DataFrame\n",
    "df = pd.DataFrame({\n",
    "    'title': title,\n",
    "    'body' : body,\n",
    "    'link': link,\n",
    "    'author': author,\n",
    "    'created' : created,\n",
    "    'upvotes':  upvotes\n",
    "})\n",
    "\n",
    "# Save the DataFrame to a CSV file\n",
    "df.to_csv(f\"reddit_{subredditname}_{searchinput}_dataset.csv\", index=False)\n",
    "\n",
    "# Display the DataFrame\n",
    "print(df.head())"
   ]
  },
  {
   "cell_type": "markdown",
   "id": "1c3b09f5",
   "metadata": {},
   "source": [
    "### Alternatively you can just use this and run once instead:"
   ]
  },
  {
   "cell_type": "code",
   "execution_count": null,
   "id": "4cc3d17a",
   "metadata": {},
   "outputs": [],
   "source": [
    "\n",
    "subredditnames = [\"alasjuicy\",\"MentalHealthPH\",\"OffmychestPH\",\"Philippines\",\"relationship_advicePH\"]\n",
    "searchinputs = [\"abused\",\n",
    "                 \"sexual harassment\",\n",
    "                 \"Cyberbullying\",\n",
    "                 \"domestic violence\",\n",
    "                 \"emotional abuse\",\n",
    "                 \"physical abuse\",\n",
    "                 \"unsolicited pics\",\n",
    "                 \"stalking\"]\n",
    "\n",
    "\n",
    "# importing the datetime package  \n",
    "for subredditname in subredditnames:\n",
    "    for searchinput in searchinputs:\n",
    "        title = []\n",
    "        body = []\n",
    "        link = []\n",
    "        author = []\n",
    "        upvotes = []\n",
    "        created = []\n",
    "\n",
    "        # Iterate through the hot submissions in the specified subreddit\n",
    "        for submission in reddit.subreddit(subredditname).search(searchinput):\n",
    "            title.append(submission.title)\n",
    "            body.append(submission.selftext)\n",
    "            link.append(submission.url)\n",
    "            author.append(submission.author_fullname)\n",
    "            created.append(datetime.datetime.fromtimestamp(submission.created))\n",
    "            upvotes.append(submission.score)\n",
    "\n",
    "            # Create a DataFrame\n",
    "        df = pd.DataFrame({\n",
    "            'title': title,\n",
    "            'body' : body,\n",
    "            'link': link,\n",
    "            'author': author,\n",
    "            'created' : created,\n",
    "            'upvotes':  upvotes\n",
    "        })\n",
    "\n",
    "        # Save the DataFrame to a CSV file\n",
    "        df.to_csv(f\"reddit_{subredditname}_{searchinput}_dataset.csv\", index=False)\n",
    "\n",
    "    # Display the DataFrame\n",
    "print(df.head())"
   ]
  }
 ],
 "metadata": {
  "kernelspec": {
   "display_name": "Python 3 (ipykernel)",
   "language": "python",
   "name": "python3"
  },
  "language_info": {
   "codemirror_mode": {
    "name": "ipython",
    "version": 3
   },
   "file_extension": ".py",
   "mimetype": "text/x-python",
   "name": "python",
   "nbconvert_exporter": "python",
   "pygments_lexer": "ipython3",
   "version": "3.9.13"
  }
 },
 "nbformat": 4,
 "nbformat_minor": 5
}
